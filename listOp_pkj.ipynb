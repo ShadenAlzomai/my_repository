{
 "cells": [
  {
   "cell_type": "code",
   "execution_count": 117,
   "id": "4a5268c3",
   "metadata": {},
   "outputs": [],
   "source": [
    "class ListOp:\n",
    "    \n",
    "    # Initialize the class correctly\n",
    "    def __init__(self, ls = [1,2,3]):\n",
    "        self.ls = ls\n",
    "\n",
    "    # Return the max value in the list\n",
    "    def return_max(self):\n",
    "        max = self.ls[0]\n",
    "        for i in self.ls:\n",
    "            if i > max:\n",
    "                max = i\n",
    "        return max\n",
    "\n",
    "    # Return the minimum value in the list\n",
    "    def return_min(self):\n",
    "        min = self.ls[0]\n",
    "        for i in self.ls:\n",
    "            if i < min:\n",
    "                min = i\n",
    "        return min\n",
    "\n",
    "    # Return the max value squared\n",
    "    def return_max_squared(self):     \n",
    "        max_squared = self.return_max() ** 2\n",
    "        return max_squared\n",
    "\n",
    "    # Return length of the list:\n",
    "    def return_length(self):\n",
    "        len = 0\n",
    "        for i in self.ls:\n",
    "            len+=1\n",
    "        return len\n",
    "\n",
    "    # Return the sum of all positive numbers only\n",
    "    def return_positive_sum(self):\n",
    "        pos_sum = 0\n",
    "        for i in self.ls:\n",
    "            if i > 0:\n",
    "                pos_sum += i\n",
    "        return pos_sum\n",
    "\n",
    "    #Return the count of all negative numbers (How many negative numbers are in the list)\n",
    "    def return_negative_count(self):\n",
    "        neg_count = 0\n",
    "        for i in self.ls:\n",
    "            if i < 0:\n",
    "                neg_count += 1\n",
    "        return neg_count\n",
    "\n",
    "    # Return the sum of all negative numbers only\n",
    "    def return_negative_sum(self):\n",
    "        neg_sum = 0\n",
    "        for i in self.ls:\n",
    "            if i < 0:\n",
    "                neg_sum += i\n",
    "        return neg_sum\n",
    "                \n",
    "    #Return the count of all positive numbers (How many positive numbers are in the list)\n",
    "    def return_positive_count(self):\n",
    "        pos_count = 0\n",
    "        for i in self.ls:\n",
    "            if i > 0:\n",
    "                pos_count += 1\n",
    "        return pos_count"
   ]
  },
  {
   "cell_type": "code",
   "execution_count": 118,
   "id": "a0bd3d3a",
   "metadata": {},
   "outputs": [],
   "source": [
    "test = [5,7,-1,-5,4]\n",
    "test = ListOp(test)"
   ]
  },
  {
   "cell_type": "code",
   "execution_count": 119,
   "id": "69f1efcc",
   "metadata": {},
   "outputs": [
    {
     "data": {
      "text/plain": [
       "7"
      ]
     },
     "execution_count": 119,
     "metadata": {},
     "output_type": "execute_result"
    }
   ],
   "source": [
    "test.return_max()"
   ]
  },
  {
   "cell_type": "code",
   "execution_count": 120,
   "id": "4e228828",
   "metadata": {},
   "outputs": [
    {
     "data": {
      "text/plain": [
       "-5"
      ]
     },
     "execution_count": 120,
     "metadata": {},
     "output_type": "execute_result"
    }
   ],
   "source": [
    "test.return_min()"
   ]
  },
  {
   "cell_type": "code",
   "execution_count": 121,
   "id": "5f313c32",
   "metadata": {},
   "outputs": [
    {
     "data": {
      "text/plain": [
       "49"
      ]
     },
     "execution_count": 121,
     "metadata": {},
     "output_type": "execute_result"
    }
   ],
   "source": [
    "test.return_max_squared()"
   ]
  },
  {
   "cell_type": "code",
   "execution_count": 122,
   "id": "8a968d08",
   "metadata": {},
   "outputs": [
    {
     "data": {
      "text/plain": [
       "5"
      ]
     },
     "execution_count": 122,
     "metadata": {},
     "output_type": "execute_result"
    }
   ],
   "source": [
    "test.return_length()"
   ]
  },
  {
   "cell_type": "code",
   "execution_count": 123,
   "id": "e1a46473",
   "metadata": {},
   "outputs": [
    {
     "data": {
      "text/plain": [
       "16"
      ]
     },
     "execution_count": 123,
     "metadata": {},
     "output_type": "execute_result"
    }
   ],
   "source": [
    "test.return_positive_sum()"
   ]
  },
  {
   "cell_type": "code",
   "execution_count": 124,
   "id": "1015ad0d",
   "metadata": {},
   "outputs": [
    {
     "data": {
      "text/plain": [
       "2"
      ]
     },
     "execution_count": 124,
     "metadata": {},
     "output_type": "execute_result"
    }
   ],
   "source": [
    "test.return_negative_count()"
   ]
  },
  {
   "cell_type": "code",
   "execution_count": 125,
   "id": "cc733fae",
   "metadata": {
    "scrolled": true
   },
   "outputs": [
    {
     "data": {
      "text/plain": [
       "-6"
      ]
     },
     "execution_count": 125,
     "metadata": {},
     "output_type": "execute_result"
    }
   ],
   "source": [
    "test.return_negative_sum()"
   ]
  },
  {
   "cell_type": "code",
   "execution_count": 126,
   "id": "dac55a20",
   "metadata": {},
   "outputs": [
    {
     "data": {
      "text/plain": [
       "3"
      ]
     },
     "execution_count": 126,
     "metadata": {},
     "output_type": "execute_result"
    }
   ],
   "source": [
    "test.return_positive_count()"
   ]
  }
 ],
 "metadata": {
  "kernelspec": {
   "display_name": "Python 3 (ipykernel)",
   "language": "python",
   "name": "python3"
  },
  "language_info": {
   "codemirror_mode": {
    "name": "ipython",
    "version": 3
   },
   "file_extension": ".py",
   "mimetype": "text/x-python",
   "name": "python",
   "nbconvert_exporter": "python",
   "pygments_lexer": "ipython3",
   "version": "3.9.12"
  }
 },
 "nbformat": 4,
 "nbformat_minor": 5
}
